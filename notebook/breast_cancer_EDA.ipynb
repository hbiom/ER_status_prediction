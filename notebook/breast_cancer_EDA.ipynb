{
 "cells": [
  {
   "cell_type": "code",
   "execution_count": 20,
   "metadata": {},
   "outputs": [
    {
     "ename": "ImportError",
     "evalue": "attempted relative import with no known parent package",
     "output_type": "error",
     "traceback": [
      "\u001b[0;31m---------------------------------------------------------------------------\u001b[0m",
      "\u001b[0;31mImportError\u001b[0m                               Traceback (most recent call last)",
      "Input \u001b[0;32mIn [20]\u001b[0m, in \u001b[0;36m<cell line: 12>\u001b[0;34m()\u001b[0m\n\u001b[1;32m      9\u001b[0m \u001b[38;5;28;01mfrom\u001b[39;00m \u001b[38;5;21;01msklearn\u001b[39;00m\u001b[38;5;21;01m.\u001b[39;00m\u001b[38;5;21;01mdecomposition\u001b[39;00m \u001b[38;5;28;01mimport\u001b[39;00m PCA\n\u001b[1;32m     10\u001b[0m \u001b[38;5;28;01mfrom\u001b[39;00m \u001b[38;5;21;01msklearn\u001b[39;00m\u001b[38;5;21;01m.\u001b[39;00m\u001b[38;5;21;01mmanifold\u001b[39;00m \u001b[38;5;28;01mimport\u001b[39;00m TSNE\n\u001b[0;32m---> 12\u001b[0m \u001b[38;5;28;01mfrom\u001b[39;00m \u001b[38;5;21;01m.\u001b[39;00m\u001b[38;5;21;01m.\u001b[39;00m\u001b[38;5;21;01mutility\u001b[39;00m\u001b[38;5;21;01m.\u001b[39;00m\u001b[38;5;21;01mlib\u001b[39;00m \u001b[38;5;28;01mimport\u001b[39;00m probe_to_gene\n\u001b[1;32m     15\u001b[0m \u001b[38;5;28;01mfrom\u001b[39;00m \u001b[38;5;21;01mutility\u001b[39;00m\u001b[38;5;21;01m.\u001b[39;00m\u001b[38;5;21;01mget_data\u001b[39;00m \u001b[38;5;28;01mimport\u001b[39;00m load_rdata\n",
      "\u001b[0;31mImportError\u001b[0m: attempted relative import with no known parent package"
     ]
    }
   ],
   "source": [
    "# import\n",
    "import pyreadr\n",
    "import numpy as np\n",
    "import pandas as pd\n",
    "import matplotlib.pyplot as plt\n",
    "import seaborn as sns\n",
    "\n",
    "from sklearn.preprocessing import StandardScaler\n",
    "from sklearn.decomposition import PCA\n",
    "from sklearn.manifold import TSNE\n",
    "\n",
    "from ..utility.lib import probe_to_gene\n",
    "\n",
    "\n",
    "from utility.get_data import load_rdata\n",
    "\n"
   ]
  },
  {
   "cell_type": "code",
   "execution_count": null,
   "metadata": {},
   "outputs": [],
   "source": []
  },
  {
   "cell_type": "code",
   "execution_count": 2,
   "metadata": {},
   "outputs": [
    {
     "name": "stdout",
     "output_type": "stream",
     "text": [
      "/home/hugo/code/ER_status_prediction/notebook\r\n"
     ]
    }
   ],
   "source": [
    "!pwd"
   ]
  },
  {
   "cell_type": "markdown",
   "metadata": {},
   "source": [
    "We are going to train a machine learning model to classify Breast cancer ER (Estrogen receptors) positive and \n",
    "negative based on transcriptomic data \n",
    "\n",
    "This dataset was originally found [here](https://www.ncbi.nlm.nih.gov/geo/query/acc.cgi?acc=gse7390)\n"
   ]
  },
  {
   "cell_type": "code",
   "execution_count": null,
   "metadata": {},
   "outputs": [],
   "source": [
    "# dowload affymetrix dataset in data folder\n",
    "! script/get_affy_data.sh"
   ]
  },
  {
   "cell_type": "code",
   "execution_count": null,
   "metadata": {},
   "outputs": [],
   "source": [
    "# load .rDATA\n",
    "df, annot, demo = load_rdata()"
   ]
  },
  {
   "cell_type": "code",
   "execution_count": null,
   "metadata": {},
   "outputs": [],
   "source": [
    "print(df.shape) # extract gene expression\n",
    "print(annot.shape) # extract gene information/description\n",
    "print(demo.shape) # extract clinical data including ER status"
   ]
  },
  {
   "cell_type": "code",
   "execution_count": null,
   "metadata": {},
   "outputs": [],
   "source": [
    "demo.head()"
   ]
  },
  {
   "cell_type": "code",
   "execution_count": null,
   "metadata": {},
   "outputs": [],
   "source": [
    "df.head()"
   ]
  },
  {
   "cell_type": "code",
   "execution_count": null,
   "metadata": {},
   "outputs": [],
   "source": [
    "annot.head()"
   ]
  },
  {
   "cell_type": "code",
   "execution_count": null,
   "metadata": {},
   "outputs": [],
   "source": [
    "gene_list = annot[\"HUGO.gene.symbol\"].tolist()\n",
    "print(f\"{len(gene_list)} total genes\")\n",
    "\n",
    "# housekeeping gene use for control\n",
    "housekeeping_gene = [colname for colname in list(df.columns) if str(colname).startswith('AFFX')]\n",
    "print(f\"{len(housekeeping_gene)} housekeeping gene\")\n",
    "\n",
    "unknow_gene = [gene for gene in gene_list if str(gene) == 'nan']\n",
    "print(f\"{len(unknow_gene)} unknow_gene\")\n",
    "\n",
    "# remove thoses gene from df\n",
    "df.drop(housekeeping_gene, inplace=True, axis=1)"
   ]
  },
  {
   "cell_type": "code",
   "execution_count": null,
   "metadata": {},
   "outputs": [],
   "source": [
    "# saved dataframe\n",
    "df_er = pd.concat([df, demo['er']], axis=1)\n",
    "df_er.to_csv(\"data/gene_expression_er.csv\", index=False)\n",
    "annot.to_csv(\"data/annot.csv\", index=False)\n",
    "df_er"
   ]
  },
  {
   "cell_type": "markdown",
   "metadata": {},
   "source": [
    "We have 22216 gene including ER cancer status for the 198 patients. Now, lets look at the distribution of patient \n",
    "without and ER cancer."
   ]
  },
  {
   "cell_type": "code",
   "execution_count": null,
   "metadata": {},
   "outputs": [],
   "source": [
    "tumors_type = {'0': 'negative', '1': 'positive'}\n",
    "labels, counts = np.unique(demo['er'], return_counts=True)\n",
    "\n",
    "fig, ax = plt.subplots(1, 2, figsize=(10, 5))\n",
    "\n",
    "# plot frequency\n",
    "ax[0].bar(labels[0], counts[0], label=tumors_type[str(labels[0])])\n",
    "ax[0].bar(labels[1], counts[1], label=tumors_type[str(labels[1])])\n",
    "ax[0].set_ylabel('Number of patients')\n",
    "ax[0].axes.get_xaxis().set_ticks([])\n",
    "ax[0].set_ylim([0, 200])\n",
    "\n",
    "for i in ax[0].patches:\n",
    "    height = i.get_height()\n",
    "    ax[0].text((i.get_x() + i.get_width()/2.0), height + 20 , str(i.get_height()), ha='center',\n",
    "            fontsize=12, fontweight='bold', color='grey')\n",
    "\n",
    "#create pie chart\n",
    "colors = sns.color_palette('pastel')[0:2]\n",
    "ax[1].pie(counts, labels = tumors_type.values(), autopct='%.0f%%')\n",
    "ax[1].legend(bbox_to_anchor=(1.9, 1), loc='upper right', borderaxespad=0)\n",
    "\n",
    "fig.suptitle(\"ER type distribution\", fontsize=16, y=1.05)\n",
    "plt.subplots_adjust(wspace=0.4)\n",
    "plt.show()"
   ]
  },
  {
   "cell_type": "markdown",
   "metadata": {},
   "source": [
    "We have an unbalance dataset (about 1:2 ration) with more ER positive patients. Now, we going to see if we can\n",
    "cluster this 2 groups using gene expression by clustering. We used PCA and T-SNE"
   ]
  },
  {
   "cell_type": "code",
   "execution_count": null,
   "metadata": {},
   "outputs": [],
   "source": [
    "# standardize the data for dimensionality reduction \n",
    "scaler = StandardScaler()\n",
    "x = pd.DataFrame(scaler.fit_transform(df), columns=df.columns)\n",
    "y = demo['er']"
   ]
  },
  {
   "cell_type": "code",
   "execution_count": null,
   "metadata": {},
   "outputs": [],
   "source": [
    "# PCA\n",
    "pca = PCA(n_components=2)\n",
    "principalComponents = pca.fit_transform(x)\n",
    "Df_pca = pd.DataFrame(data = principalComponents, columns = ['PCA1', 'PCA2'])\n",
    "\n",
    "# Tsne\n",
    "tsne = TSNE(n_components=2, verbose=1, perplexity=40, n_iter=300)\n",
    "tsne_results = tsne.fit_transform(x)\n",
    "Df_tsne = pd.DataFrame(data = tsne_results, columns = ['tsne-2d-one', 'tsne-2d-two'])\n",
    "\n",
    "finalDf = pd.concat([Df_pca, Df_tsne], axis=1)\n",
    "finalDf.index = df.index\n",
    "finalDf['er'] = y.values\n",
    "finalDf"
   ]
  },
  {
   "cell_type": "code",
   "execution_count": null,
   "metadata": {},
   "outputs": [],
   "source": [
    "# lets plot PCA and T-SNE variable accoring to ER groups\n",
    "\n",
    "plt.figure(figsize=(16,8))\n",
    "\n",
    "tumors_type = {'0': 'negative', '1': 'positive'}\n",
    "\n",
    "color_dict = {1: '#1f77b4', 2: '#ff7f0e', 3: '#2ca02c'}\n",
    "color_dict = {1: 'b', 2: 'g', 3: 'r'}\n",
    "\n",
    "ax1 = plt.subplot(1, 2, 1)\n",
    "ax1.set_xlabel('Principal Component 1', fontsize = 15)\n",
    "ax1.set_ylabel('Principal Component 2', fontsize = 15)\n",
    "ax1.set_title('2 Component PCA', fontsize = 20)\n",
    "\n",
    "sns.scatterplot(\n",
    "    x=\"PCA1\", y=\"PCA2\",\n",
    "    hue=\"er\",\n",
    "    data=finalDf,\n",
    "    #palette='Set2', \n",
    "    alpha=0.8,\n",
    "    legend=None,\n",
    "    ax=ax1)\n",
    "\n",
    "ax2 = plt.subplot(1, 2, 2)\n",
    "ax2.set_xlabel('T-SNE-1', fontsize = 15)\n",
    "ax2.set_ylabel('T-SNE-2', fontsize = 15)\n",
    "ax2.set_title('T-sne', fontsize = 20)\n",
    "\n",
    "sns.scatterplot(\n",
    "    x=\"tsne-2d-one\", y=\"tsne-2d-two\",\n",
    "    hue=\"er\",\n",
    "    data=finalDf,\n",
    "    #palette='Set2', \n",
    "    alpha=0.8,\n",
    "    ax=ax2)\n",
    "\n",
    "\n",
    "handles, labels  =  ax2.get_legend_handles_labels()\n",
    "tumors_labels = [tumors_type[label] for label in labels]\n",
    "\n",
    "ax2.legend(loc='upper right', bbox_to_anchor=(0.5, -0.5), ncol=1)\n",
    "ax2.legend(handles, tumors_labels)\n",
    "\n",
    "plt.show()\n",
    "\n"
   ]
  },
  {
   "cell_type": "markdown",
   "metadata": {},
   "source": [
    "We can see the negative and positve ER patient group seems quite easily notably on PCA. \n",
    "\n",
    "Now, we are going to select feature to then train a machine learning models to classify ER status on er_prediction.ipynb"
   ]
  },
  {
   "cell_type": "code",
   "execution_count": null,
   "metadata": {},
   "outputs": [],
   "source": []
  }
 ],
 "metadata": {
  "kernelspec": {
   "display_name": "er_cancer",
   "language": "python",
   "name": "er_cancer"
  },
  "language_info": {
   "codemirror_mode": {
    "name": "ipython",
    "version": 3
   },
   "file_extension": ".py",
   "mimetype": "text/x-python",
   "name": "python",
   "nbconvert_exporter": "python",
   "pygments_lexer": "ipython3",
   "version": "3.8.13"
  }
 },
 "nbformat": 4,
 "nbformat_minor": 2
}
